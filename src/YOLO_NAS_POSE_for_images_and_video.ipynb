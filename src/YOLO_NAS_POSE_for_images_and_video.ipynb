{
  "nbformat": 4,
  "nbformat_minor": 0,
  "metadata": {
    "colab": {
      "provenance": []
    },
    "kernelspec": {
      "name": "python3",
      "display_name": "Python 3"
    },
    "language_info": {
      "name": "python"
    }
  },
  "cells": [
    {
      "cell_type": "markdown",
      "source": [
        "### // **Briefing**\n",
        "\n",
        "This is a notebook for using YOLO-NAS-POSE. This does away with any real-time capture and playback, instead opting for more reliable (and less system-intensive) persistent data retrieval and storage. Obtaining images and video, and loading them into the environment is **your** responsibility."
      ],
      "metadata": {
        "id": "aN7MgT3_SIbq"
      }
    },
    {
      "cell_type": "markdown",
      "source": [
        "### // **Setup**\n",
        "\n",
        "Please run the following for...\n",
        "- Installation\n",
        "- Imports\n",
        "- Model instantiation"
      ],
      "metadata": {
        "id": "VaIQJDFKRy31"
      }
    },
    {
      "cell_type": "code",
      "source": [
        "%%capture\n",
        "!pip install super-gradients"
      ],
      "metadata": {
        "id": "Gm0p3l5Sfxe7"
      },
      "execution_count": null,
      "outputs": []
    },
    {
      "cell_type": "markdown",
      "source": [
        "**After running the above, please restart your runtime environment.**\n",
        "\n",
        "\n",
        "This must be done in order to avoid an issue with PIL, where `Image.open()` (used by the model to load images) fails and instead raises exception `PIL.UnidentifiedImageError`."
      ],
      "metadata": {
        "id": "p2Gcma78GtT5"
      }
    },
    {
      "cell_type": "code",
      "execution_count": null,
      "metadata": {
        "id": "GPtyZtZTRr7P"
      },
      "outputs": [],
      "source": [
        "import torch\n",
        "import os\n",
        "import pathlib\n",
        "import re\n",
        "from imutils import paths\n",
        "from super_gradients.training import models\n",
        "from super_gradients.common.object_names import Models"
      ]
    },
    {
      "cell_type": "code",
      "source": [
        "device = \"cuda\" if torch.cuda.is_available() else \"cpu\"\n",
        "yolo_nas_pose = models.get(\"yolo_nas_pose_l\", pretrained_weights=\"coco_pose\").to(device)"
      ],
      "metadata": {
        "id": "gHPRYSuVvkYc"
      },
      "execution_count": null,
      "outputs": []
    },
    {
      "cell_type": "markdown",
      "source": [
        "### // **Predict on Image**\n",
        "\n",
        "Please ensure image is locally available."
      ],
      "metadata": {
        "id": "AbPkTrqLTdnG"
      }
    },
    {
      "cell_type": "code",
      "source": [
        "input_path = \"/content/faraway.jpg\"\n",
        "confidence = 0.1\n",
        "output_path = \"faraway_out.jpg\"\n",
        "\n",
        "result = yolo_nas_pose.predict(input_path, conf=confidence)\n",
        "\n",
        "result.show()\n",
        "result.save(output_path)"
      ],
      "metadata": {
        "id": "1tFAX6ZLTmDD"
      },
      "execution_count": null,
      "outputs": []
    },
    {
      "cell_type": "code",
      "source": [
        "class_names = result.class_names\n",
        "#labels = result.prediction.labels\n",
        "#confidence = result.prediction.confidence\n",
        "bboxes = result.prediction.bboxes_xyxy\n",
        "poses = result.prediction.poses"
      ],
      "metadata": {
        "id": "cX3C_24MmasP"
      },
      "execution_count": null,
      "outputs": []
    },
    {
      "cell_type": "code",
      "source": [
        "data = {\n",
        "    \"position\" : \"unknown\",\n",
        "    \"image\" : output_path[:7],\n",
        "    \"frame\" : int(output_path[:7]),\n",
        "    \"pose1\" : poses[0],\n",
        "    \"pose2\" : poses[1]\n",
        "}"
      ],
      "metadata": {
        "id": "79gIVzjynBc0"
      },
      "execution_count": null,
      "outputs": []
    },
    {
      "cell_type": "code",
      "source": [
        "poses"
      ],
      "metadata": {
        "colab": {
          "base_uri": "https://localhost:8080/"
        },
        "id": "DMjwbFQ9xITi",
        "outputId": "be933ee5-da96-4146-92b3-301b0b64c903"
      },
      "execution_count": null,
      "outputs": [
        {
          "output_type": "execute_result",
          "data": {
            "text/plain": [
              "array([], shape=(0, 17, 3), dtype=float32)"
            ]
          },
          "metadata": {},
          "execution_count": 32
        }
      ]
    },
    {
      "cell_type": "markdown",
      "source": [
        "### // **Predict on Video**\n",
        "\n",
        "Please ensure video is locally available."
      ],
      "metadata": {
        "id": "JHuB3QC-Tofw"
      }
    },
    {
      "cell_type": "code",
      "source": [
        "input_path = None\n",
        "confidence = 0.0\n",
        "output_path = None\n",
        "\n",
        "result = yolo_nas_pose.predict(input_path, conf=confidence).save(output_path)"
      ],
      "metadata": {
        "id": "61I8tp51Tspp"
      },
      "execution_count": null,
      "outputs": []
    }
  ]
}
