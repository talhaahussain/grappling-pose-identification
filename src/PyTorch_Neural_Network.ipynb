{
  "nbformat": 4,
  "nbformat_minor": 0,
  "metadata": {
    "colab": {
      "provenance": [],
      "authorship_tag": "ABX9TyN+FuHBfDDt3mByB5gWcg7h",
      "include_colab_link": true
    },
    "kernelspec": {
      "name": "python3",
      "display_name": "Python 3"
    },
    "language_info": {
      "name": "python"
    }
  },
  "cells": [
    {
      "cell_type": "markdown",
      "metadata": {
        "id": "view-in-github",
        "colab_type": "text"
      },
      "source": [
        "<a href=\"https://colab.research.google.com/github/talhaahussain/grappling-pose-identification/blob/main/src/PyTorch_Neural_Network.ipynb\" target=\"_parent\"><img src=\"https://colab.research.google.com/assets/colab-badge.svg\" alt=\"Open In Colab\"/></a>"
      ]
    },
    {
      "cell_type": "markdown",
      "source": [
        "### // **Imports**"
      ],
      "metadata": {
        "id": "iE7aKkIwGHH0"
      }
    },
    {
      "cell_type": "code",
      "execution_count": null,
      "metadata": {
        "id": "3gSUHcBAF_UW"
      },
      "outputs": [],
      "source": [
        "import os\n",
        "import torch\n",
        "from torch import nn\n",
        "import torch.nn.functional as F\n",
        "from torch.utils.data import DataLoader\n",
        "from torchvision import datasets, transforms"
      ]
    },
    {
      "cell_type": "markdown",
      "source": [
        "### // **Load Device**"
      ],
      "metadata": {
        "id": "svlxo8-lGUCB"
      }
    },
    {
      "cell_type": "code",
      "source": [
        "device = (\n",
        "    \"cuda\"\n",
        "    if torch.cuda.is_available()\n",
        "    else \"mps\"\n",
        "    if torch.backends.mps.is_available()\n",
        "    else \"cpu\"\n",
        ")\n",
        "print(f\"Using {device} device\")"
      ],
      "metadata": {
        "id": "_zKkuOjyGV0S"
      },
      "execution_count": null,
      "outputs": []
    },
    {
      "cell_type": "markdown",
      "source": [
        "### // **Importing Data**"
      ],
      "metadata": {
        "id": "S1-eCzc1nnFW"
      }
    },
    {
      "cell_type": "code",
      "source": [
        "import json\n",
        "import pandas as pd\n",
        "import numpy as np\n",
        "import ast\n",
        "from sklearn.preprocessing import normalize\n",
        "from imblearn.over_sampling import RandomOverSampler\n",
        "\n",
        "\n",
        "def init_data(file=\"pinorno_improved.csv\"):\n",
        "  X = []\n",
        "  y = []\n",
        "  df = pd.read_csv(file)\n",
        "\n",
        "  y = df[\"pin\"].to_numpy()\n",
        "  pose1 = df[\"pose1\"].to_numpy()\n",
        "  pose2 = df[\"pose2\"].to_numpy()\n",
        "\n",
        "  for i in range(len(pose1)):\n",
        "    X.append((np.array(ast.literal_eval(pose1[i]) + ast.literal_eval(pose2[i]))).flatten())\n",
        "\n",
        "  X = np.array(X)\n",
        "\n",
        "  X = normalize(X, axis=0, norm='max')\n",
        "  oversample = RandomOverSampler(sampling_strategy='minority')\n",
        "  X_over, y_over = oversample.fit_resample(X, y)\n",
        "\n",
        "  return X_over, y_over\n",
        "\n",
        "X, y = init_data()"
      ],
      "metadata": {
        "id": "xBplnXKtns23"
      },
      "execution_count": null,
      "outputs": []
    },
    {
      "cell_type": "code",
      "source": [],
      "metadata": {
        "id": "imR3N9WMTsEr"
      },
      "execution_count": null,
      "outputs": []
    },
    {
      "cell_type": "markdown",
      "source": [
        "### **TRAIN TEST SPLIT**"
      ],
      "metadata": {
        "id": "BdQXjJ3VH6sA"
      }
    },
    {
      "cell_type": "code",
      "source": [
        "from sklearn.model_selection import train_test_split\n",
        "\n",
        "X_train, X_test, y_train, y_test = train_test_split(X, y, test_size=0.21, random_state=50)"
      ],
      "metadata": {
        "id": "qADiQ7gXGrFo"
      },
      "execution_count": null,
      "outputs": []
    },
    {
      "cell_type": "markdown",
      "source": [
        "### // **Class Definition**"
      ],
      "metadata": {
        "id": "RbruWW3CHU6g"
      }
    },
    {
      "cell_type": "code",
      "source": [
        "\"\"\"class MLP(nn.Module):\n",
        "  def __init__(self):\n",
        "    super().__init__()\n",
        "    self.all_layers = nn.Sequential(\n",
        "        nn.Linear(102, 102),\n",
        "        nn.ReLU,\n",
        "\n",
        "        nn.Linear(102, 34),\n",
        "        nn.ReLU,\n",
        "\n",
        "        nn.Linear(34, 2),\n",
        "    )\n",
        "\n",
        "  def forward(self, x):\n",
        "    logits = self.all_layers(x)\n",
        "    return logits\n",
        "\"\"\""
      ],
      "metadata": {
        "id": "Gn1yIhaFHWy2"
      },
      "execution_count": null,
      "outputs": []
    },
    {
      "cell_type": "code",
      "source": [
        "class MLP(nn.Module):\n",
        "  def __init__(self, n_features=3*17*2, n_hidden=34, n_classes=1):\n",
        "    super().__init__()\n",
        "    self.fc1 = nn.Linear(n_features, n_hidden)\n",
        "    self.fc2 = nn.Linear(n_hidden, n_hidden)\n",
        "    self.fc3 = nn.Linear(n_hidden, n_classes)\n",
        "\n",
        "  def forward(self, x):\n",
        "    x = F.relu(self.fc1(x))\n",
        "    x = F.relu(self.fc2(x))\n",
        "    x = F.sigmoid(self.fc3(x))\n",
        "\n",
        "    return x"
      ],
      "metadata": {
        "id": "XerOdZWKLzKv"
      },
      "execution_count": null,
      "outputs": []
    },
    {
      "cell_type": "code",
      "source": [
        "torch.manual_seed(50)\n",
        "\n",
        "mlp = MLP()\n",
        "\n",
        "X_train = torch.FloatTensor(X_train)\n",
        "X_test = torch.FloatTensor(X_test)\n",
        "y_train = torch.LongTensor(y_train)\n",
        "y_test = torch.LongTensor(y_test)"
      ],
      "metadata": {
        "id": "llTsv8vVjetc"
      },
      "execution_count": null,
      "outputs": []
    },
    {
      "cell_type": "code",
      "source": [
        "criterion = nn.BCELoss()\n",
        "optimizer = torch.optim.Adam(mlp.parameters(), lr=0.01)\n"
      ],
      "metadata": {
        "id": "eUhDMNpxl_oD"
      },
      "execution_count": null,
      "outputs": []
    },
    {
      "cell_type": "code",
      "source": [
        "epochs = 1000\n",
        "losses = []\n",
        "for i in range(epochs):\n",
        "  y_pred = mlp.forward(X_train)\n",
        "  y_pred = y_pred.squeeze(-1)\n",
        "\n",
        "  loss = criterion(y_pred, y_train.float())\n",
        "\n",
        "  losses.append(loss.detach().numpy())\n",
        "\n",
        "  if i % 10 == 0:\n",
        "    print(f\"Epoch: {i}, loss: {loss}\")\n",
        "\n",
        "  optimizer.zero_grad()\n",
        "  loss.backward()\n",
        "  optimizer.step()"
      ],
      "metadata": {
        "colab": {
          "base_uri": "https://localhost:8080/"
        },
        "id": "_osx6rLwm1jZ",
        "outputId": "3f4e2782-f57c-44c2-c442-8c40cacab16f"
      },
      "execution_count": null,
      "outputs": [
        {
          "output_type": "stream",
          "name": "stdout",
          "text": [
            "Epoch: 0, loss: 0.3510632812976837\n",
            "Epoch: 10, loss: 0.348633348941803\n",
            "Epoch: 20, loss: 0.34507691860198975\n",
            "Epoch: 30, loss: 0.34967151284217834\n",
            "Epoch: 40, loss: 0.34703734517097473\n",
            "Epoch: 50, loss: 0.33796316385269165\n",
            "Epoch: 60, loss: 0.3354836106300354\n",
            "Epoch: 70, loss: 0.3330041468143463\n",
            "Epoch: 80, loss: 0.3346901535987854\n",
            "Epoch: 90, loss: 0.3289814889431\n",
            "Epoch: 100, loss: 0.32619908452033997\n",
            "Epoch: 110, loss: 0.33309319615364075\n",
            "Epoch: 120, loss: 0.3317319452762604\n",
            "Epoch: 130, loss: 0.32739320397377014\n",
            "Epoch: 140, loss: 0.32072019577026367\n",
            "Epoch: 150, loss: 0.3160284757614136\n",
            "Epoch: 160, loss: 0.34112313389778137\n",
            "Epoch: 170, loss: 0.3205183148384094\n",
            "Epoch: 180, loss: 0.31023284792900085\n",
            "Epoch: 190, loss: 0.3115253448486328\n",
            "Epoch: 200, loss: 0.3061053156852722\n",
            "Epoch: 210, loss: 0.31987667083740234\n",
            "Epoch: 220, loss: 0.3191208243370056\n",
            "Epoch: 230, loss: 0.2977348566055298\n",
            "Epoch: 240, loss: 0.3152003586292267\n",
            "Epoch: 250, loss: 0.2927286624908447\n",
            "Epoch: 260, loss: 0.29231125116348267\n",
            "Epoch: 270, loss: 0.2886504530906677\n",
            "Epoch: 280, loss: 0.29352477192878723\n",
            "Epoch: 290, loss: 0.2997928857803345\n",
            "Epoch: 300, loss: 0.28843870759010315\n",
            "Epoch: 310, loss: 0.280456006526947\n",
            "Epoch: 320, loss: 0.2822349965572357\n",
            "Epoch: 330, loss: 0.2728016674518585\n",
            "Epoch: 340, loss: 0.2695266902446747\n",
            "Epoch: 350, loss: 0.2656731605529785\n",
            "Epoch: 360, loss: 0.2685985863208771\n",
            "Epoch: 370, loss: 0.27406999468803406\n",
            "Epoch: 380, loss: 0.2607240080833435\n",
            "Epoch: 390, loss: 0.2528098523616791\n",
            "Epoch: 400, loss: 0.25158199667930603\n",
            "Epoch: 410, loss: 0.24875490367412567\n",
            "Epoch: 420, loss: 0.24147482216358185\n",
            "Epoch: 430, loss: 0.23730458319187164\n",
            "Epoch: 440, loss: 0.23613624274730682\n",
            "Epoch: 450, loss: 0.242124542593956\n",
            "Epoch: 460, loss: 0.23592956364154816\n",
            "Epoch: 470, loss: 0.24152828752994537\n",
            "Epoch: 480, loss: 0.2268141508102417\n",
            "Epoch: 490, loss: 0.21595121920108795\n",
            "Epoch: 500, loss: 0.21414579451084137\n",
            "Epoch: 510, loss: 0.21183806657791138\n",
            "Epoch: 520, loss: 0.20624126493930817\n",
            "Epoch: 530, loss: 0.22383646667003632\n",
            "Epoch: 540, loss: 0.24038150906562805\n",
            "Epoch: 550, loss: 0.23790112137794495\n",
            "Epoch: 560, loss: 0.24794913828372955\n",
            "Epoch: 570, loss: 0.20846672356128693\n",
            "Epoch: 580, loss: 0.19507427513599396\n",
            "Epoch: 590, loss: 0.21448379755020142\n",
            "Epoch: 600, loss: 0.20157277584075928\n",
            "Epoch: 610, loss: 0.23444321751594543\n",
            "Epoch: 620, loss: 0.26110225915908813\n",
            "Epoch: 630, loss: 0.2811342477798462\n",
            "Epoch: 640, loss: 0.2094877064228058\n",
            "Epoch: 650, loss: 0.19010615348815918\n",
            "Epoch: 660, loss: 0.18847967684268951\n",
            "Epoch: 670, loss: 0.18329305946826935\n",
            "Epoch: 680, loss: 0.18049083650112152\n",
            "Epoch: 690, loss: 0.17841371893882751\n",
            "Epoch: 700, loss: 0.1762918382883072\n",
            "Epoch: 710, loss: 0.17441117763519287\n",
            "Epoch: 720, loss: 0.1724589765071869\n",
            "Epoch: 730, loss: 0.1732608824968338\n",
            "Epoch: 740, loss: 0.1692897528409958\n",
            "Epoch: 750, loss: 0.1665244698524475\n",
            "Epoch: 760, loss: 0.16407367587089539\n",
            "Epoch: 770, loss: 0.16157999634742737\n",
            "Epoch: 780, loss: 0.16425533592700958\n",
            "Epoch: 790, loss: 0.15827703475952148\n",
            "Epoch: 800, loss: 0.15698054432868958\n",
            "Epoch: 810, loss: 0.1550249606370926\n",
            "Epoch: 820, loss: 0.15589018166065216\n",
            "Epoch: 830, loss: 0.15160627663135529\n",
            "Epoch: 840, loss: 0.14983563125133514\n",
            "Epoch: 850, loss: 0.14851923286914825\n",
            "Epoch: 860, loss: 0.14480702579021454\n",
            "Epoch: 870, loss: 0.1445530503988266\n",
            "Epoch: 880, loss: 0.18201948702335358\n",
            "Epoch: 890, loss: 0.21417340636253357\n",
            "Epoch: 900, loss: 0.18261279165744781\n",
            "Epoch: 910, loss: 0.2220386564731598\n",
            "Epoch: 920, loss: 0.19973398745059967\n",
            "Epoch: 930, loss: 0.1935807466506958\n",
            "Epoch: 940, loss: 0.1776880919933319\n",
            "Epoch: 950, loss: 0.1706378012895584\n",
            "Epoch: 960, loss: 0.16664403676986694\n",
            "Epoch: 970, loss: 0.16279491782188416\n",
            "Epoch: 980, loss: 0.15961462259292603\n",
            "Epoch: 990, loss: 0.157161146402359\n"
          ]
        }
      ]
    },
    {
      "cell_type": "code",
      "source": [
        "import matplotlib.pyplot as plt\n",
        "\n",
        "plt.plot(range(epochs), losses)\n",
        "plt.ylabel(\"Loss/Error\")\n",
        "plt.xlabel(\"Epochs/Time\")"
      ],
      "metadata": {
        "colab": {
          "base_uri": "https://localhost:8080/",
          "height": 466
        },
        "id": "aP4mo7i3olPN",
        "outputId": "5f6740d5-4d6c-417d-8b10-1eba98cbefca"
      },
      "execution_count": null,
      "outputs": [
        {
          "output_type": "execute_result",
          "data": {
            "text/plain": [
              "Text(0.5, 0, 'Epochs/Time')"
            ]
          },
          "metadata": {},
          "execution_count": 187
        },
        {
          "output_type": "display_data",
          "data": {
            "text/plain": [
              "<Figure size 640x480 with 1 Axes>"
            ],
            "image/png": "[encoded data removed]"
          },
          "metadata": {}
        }
      ]
    },
    {
      "cell_type": "code",
      "source": [
        "with torch.no_grad():\n",
        "  y_eval = mlp.forward(X_test)\n",
        "  y_eval = y_eval.squeeze(-1)\n",
        "  loss = criterion(y_eval, y_test.float())\n",
        "\n",
        "\n",
        "print(loss)"
      ],
      "metadata": {
        "colab": {
          "base_uri": "https://localhost:8080/"
        },
        "id": "mUjGKBUJtgNK",
        "outputId": "dd5d2994-76b0-46d0-d988-079f4f7ec3fb"
      },
      "execution_count": null,
      "outputs": [
        {
          "output_type": "stream",
          "name": "stdout",
          "text": [
            "tensor(0.1557)\n"
          ]
        }
      ]
    },
    {
      "cell_type": "code",
      "source": [
        "correct = 0\n",
        "with torch.no_grad():\n",
        "  for i, data in enumerate(X_test):\n",
        "    y_val = mlp.forward(data)\n",
        "\n",
        "    #print(f\"{i+1}.) {str(y_val)} \\t {y_test[i]}\")\n",
        "\n",
        "    if round(y_val.item()) == y_test[i]:\n",
        "      correct += 1\n",
        "\n",
        "\n",
        "print(f\"Correct: {correct} out of {i}\")\n",
        "\n"
      ],
      "metadata": {
        "colab": {
          "base_uri": "https://localhost:8080/"
        },
        "id": "ncDupoDNuEHA",
        "outputId": "b2b33b70-1759-4c30-ed64-4d2151db4b06"
      },
      "execution_count": null,
      "outputs": [
        {
          "output_type": "stream",
          "name": "stdout",
          "text": [
            "Correct: 24773 out of 26372\n"
          ]
        }
      ]
    }
  ]
}