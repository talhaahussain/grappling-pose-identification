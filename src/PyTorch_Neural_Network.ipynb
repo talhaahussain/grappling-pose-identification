{
  "nbformat": 4,
  "nbformat_minor": 0,
  "metadata": {
    "colab": {
      "provenance": []
    },
    "kernelspec": {
      "name": "python3",
      "display_name": "Python 3"
    },
    "language_info": {
      "name": "python"
    }
  },
  "cells": [
    {
      "cell_type": "markdown",
      "source": [
        "### // **Imports**"
      ],
      "metadata": {
        "id": "iE7aKkIwGHH0"
      }
    },
    {
      "cell_type": "code",
      "execution_count": null,
      "metadata": {
        "id": "3gSUHcBAF_UW"
      },
      "outputs": [],
      "source": [
        "import os\n",
        "import torch\n",
        "from torch import nn\n",
        "from torch.utils.data import DataLoader\n",
        "from torchvision import datasets, transforms\n",
        "\n",
        "from sklearn.model_selection import train_test_split"
      ]
    },
    {
      "cell_type": "markdown",
      "source": [
        "### // **Load Device**"
      ],
      "metadata": {
        "id": "svlxo8-lGUCB"
      }
    },
    {
      "cell_type": "code",
      "source": [
        "device = (\n",
        "    \"cuda\"\n",
        "    if torch.cuda.is_available()\n",
        "    else \"mps\"\n",
        "    if torch.backends.mps.is_available()\n",
        "    else \"cpu\"\n",
        ")\n",
        "print(f\"Using {device} device\")"
      ],
      "metadata": {
        "colab": {
          "base_uri": "https://localhost:8080/"
        },
        "id": "_zKkuOjyGV0S",
        "outputId": "731b1a8b-810a-4bc7-887f-5af01db86c29"
      },
      "execution_count": null,
      "outputs": [
        {
          "output_type": "stream",
          "name": "stdout",
          "text": [
            "Using cpu device\n"
          ]
        }
      ]
    },
    {
      "cell_type": "markdown",
      "source": [
        "### // **Class Definition**"
      ],
      "metadata": {
        "id": "RbruWW3CHU6g"
      }
    },
    {
      "cell_type": "code",
      "source": [
        "class MLP(nn.Module):\n",
        "  def __init__(self):\n",
        "    super().__init__()\n",
        "    self.all_layers = nn.Sequential(\n",
        "        nn.Linear(102, 102),\n",
        "        nn.ReLU,\n",
        "\n",
        "        nn.Linear(102, 34),\n",
        "        nn.ReLU,\n",
        "\n",
        "        nn.Linear(34, 2),\n",
        "    )\n",
        "\n",
        "  def forward(self, x):\n",
        "    logits = self.all_layers(x)\n",
        "    return logits\n"
      ],
      "metadata": {
        "id": "Gn1yIhaFHWy2"
      },
      "execution_count": null,
      "outputs": []
    }
  ]
}